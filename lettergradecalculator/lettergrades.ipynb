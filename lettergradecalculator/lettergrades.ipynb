{
 "cells": [
  {
   "cell_type": "markdown",
   "metadata": {},
   "source": [
    "## Koc University DASC501 - HW2\n",
    "\n",
    "**Instructor:** Neslihan Gökmen İnan  \n",
    "**Due Date:** 15.01.2024  \n",
    "**Submission:** An Interactive Python Notebook (ipynb) File Through the Blackboard Site  \n",
    "\n",
    "This homework is about mainly about Numpy. \n",
    "\n",
    "Some warnings:\n",
    "* The cells you are asked to modify are marked as such. You may add new functions and cells but **do not modify any cell you are not supposed to**.\n",
    "* You are **not allowed to import any other library** then what is already given in the notebook, unless the lecturer allows it.\n",
    "* When you are done, upload your document to the same location that you downloaded the empty file. **Do not change the name of this document**. Make sure you are not uploading a currupt, empty or a half-full version. \n",
    "    * You will only grade what is uploaded. E-mail submissions will not be accepted. If for some reason you upload the \"wrong notebook\" or a corrupted file, we will not take a look at a version on your machine even if the last modified dates match. To make sure this does not happen, **download what you submit and double-check**. It is due on 15 January 2024, 11:59 p.m. \n",
    "    * You can upload as many times as you want but we will only take the latest one into account.\n",
    "\n",
    "I have marked the places you should code with `CODE BELOW`. You can use the find functionality of your browser/IDE to get to these quickly.\n",
    "\n",
    "You are encouraged to implement your own functions in cells that you can modify!\n",
    "\n",
    "**Helpful Note:** You are free to copy and paste code from our own notebooks from lectures, homework solutions and exam solutions and then modify it for the question needs"
   ]
  },
  {
   "cell_type": "code",
   "execution_count": 1,
   "metadata": {},
   "outputs": [],
   "source": [
    "# Imports\n",
    "import string\n",
    "import random\n",
    "import math\n",
    "import numpy as np"
   ]
  },
  {
   "cell_type": "markdown",
   "metadata": {},
   "source": [
    "### Student Grade Problem\n",
    "\n",
    "You are given a file containing student grades with the name other_student_grades.txt\n",
    "\n",
    "First several lines look like this:  \n",
    "``\n",
    "100,8\n",
    "mid1,hw1,mid2,hw2,mid3,hw3,final,lab\n",
    "94.98,94.38,63.49,62.53,40.63,22.62,41.31,87.78\n",
    "87.14,75.94,32.68,32.76,54.55,81.76,71.27,92.14\n",
    "54.36,56.08,64.01,66.00,41.36,59.10,40.38,83.50\n",
    "75.95,68.90,31.11,32.35,0.00,0.00,60.96,91.86\n",
    "29.16,30.09,53.35,56.11,72.95,43.28,63.14,86.46\n",
    "...\n",
    "``\n",
    "\n",
    "The first line contains two integers separated by a comma. The first integer corresponds to the number of students in the class (in the above example, 100). The second integer corresponds to the number of graded items (in the above example, 8). The remaining lines correspond to the grades of one student separated by commas. There are no errors in the file, e.g., no erroneous or empty grades, all grades are legitimate (between 0 and 100).\n",
    "\n",
    "Fill the functions given below. Coding requirements are written as comments!"
   ]
  },
  {
   "cell_type": "markdown",
   "metadata": {},
   "source": [
    "Write a function called `read_data(filename)` such that:\n",
    "* filename is the name of the file that should be read, e.g., other_student_grades.txt\n",
    "* It returns a 2D numpy array that contains the grades of all the students and a tuple containing the name of the columns "
   ]
  },
  {
   "cell_type": "code",
   "execution_count": 2,
   "metadata": {},
   "outputs": [],
   "source": [
    "def read_data(filename):\n",
    "    \"\"\"\n",
    "    Load the data given in the file in a desired format.\n",
    "    \n",
    "    Inputs:\n",
    "    - filename: The name of the file that should be read, e.g., other_student_grades.txt\n",
    "    \n",
    "    Outputs:\n",
    "    - A tuple containing the following:\n",
    "    -- allGrades: A 2D numpy array of shape n X d, where n: number of students and d: number of graded items.\n",
    "    Note that n and d are already given to you in the text file. The column order in the text file must be preserved\n",
    "    -- labels: A tuple containing the name of the columns in the correct order\n",
    "    \n",
    "    Warning: Do not return a dictionary of numpy arrays. \n",
    "    We are specifically asking you to return a numpy array and a tuple\n",
    "    \"\"\"\n",
    "    \n",
    "    # YOUR CODE HERE \n",
    "    data = []\n",
    "    labels = ()\n",
    "\n",
    "    \n",
    "    # You need to modify these:\n",
    "    with open(filename,'r') as file:\n",
    "        next(file)\n",
    "        labels = tuple(file.readline().strip().split(','))\n",
    "        for line in file:\n",
    "            row = [float(i) for i in line.strip().split(',')]\n",
    "            data.append(row)\n",
    "\n",
    "    allGrades = np.array(data)\n",
    "    # Do not modify below this line\n",
    "    \n",
    "    # The below line is redundant, they would return as tuples is we did \"return allGrades, labels\"\n",
    "    # Providing it for emphasis\n",
    "    returnedTuple = (allGrades, labels) \n",
    "    return returnedTuple"
   ]
  },
  {
   "cell_type": "code",
   "execution_count": 3,
   "metadata": {},
   "outputs": [],
   "source": [
    "gradesAndInfo = read_data('other_student_grades.txt') #[0] array and [1] tuple"
   ]
  },
  {
   "cell_type": "code",
   "execution_count": 4,
   "metadata": {},
   "outputs": [],
   "source": [
    "def calc_statistics(dataTuple, col_name):\n",
    "    \"\"\"\n",
    "    Calculate the descriptive statistics of the given column\n",
    "    - mean\n",
    "    - median\n",
    "    - standard deviation\n",
    "    - min\n",
    "    - max\n",
    "    \n",
    "    Inputs:\n",
    "    - dataTuple: The tuple containing the grades array and item names, coming from read_data\n",
    "    - col_name: A string containing the desired column name, e.g., col_name = \"hw2\", col_name = \"final\"\n",
    "    \n",
    "    Outputs:\n",
    "    - A dictionary with:\n",
    "    -- The keys \"mean\", \"median\", \"standard deviation\", \"min\" and \"max\". \n",
    "    -- The values corresponding to the desired statistic given by the key\n",
    "    \n",
    "    Hint: A version of this is already asked in Midterm 2. Feel free to use the given solution as a basis.\n",
    "    \"\"\"\n",
    "    # YOUR CODE HERE\n",
    "    grades,labels=dataTuple\n",
    "    columns=labels.index(col_name)\n",
    "    newdata = grades[:,columns]\n",
    "    statisticsDict = {\"mean\":np.mean(newdata), \"median\":np.median(newdata), \"standard deviation\":np.std(newdata), \"min\":np.min(newdata), \"max\":np.max(newdata)}\n",
    "    # Do not modify below this line\n",
    "    return statisticsDict"
   ]
  },
  {
   "cell_type": "code",
   "execution_count": 5,
   "metadata": {},
   "outputs": [],
   "source": [
    "hw1sd = calc_statistics(gradesAndInfo,'hw1')\n",
    "fin1sd = calc_statistics(gradesAndInfo,'final')"
   ]
  },
  {
   "cell_type": "code",
   "execution_count": 6,
   "metadata": {},
   "outputs": [
    {
     "data": {
      "text/plain": [
       "{'mean': 63.596599999999995,\n",
       " 'median': 62.515,\n",
       " 'standard deviation': 18.825556045971126,\n",
       " 'min': 9.7,\n",
       " 'max': 100.0}"
      ]
     },
     "execution_count": 6,
     "metadata": {},
     "output_type": "execute_result"
    }
   ],
   "source": [
    "hw1sd"
   ]
  },
  {
   "cell_type": "code",
   "execution_count": 7,
   "metadata": {},
   "outputs": [
    {
     "data": {
      "text/plain": [
       "{'mean': 49.24099999999999,\n",
       " 'median': 49.04,\n",
       " 'standard deviation': 19.544479143737753,\n",
       " 'min': 0.0,\n",
       " 'max': 100.0}"
      ]
     },
     "execution_count": 7,
     "metadata": {},
     "output_type": "execute_result"
    }
   ],
   "source": [
    "fin1sd"
   ]
  },
  {
   "cell_type": "code",
   "execution_count": null,
   "metadata": {},
   "outputs": [],
   "source": [
    "# APPROXIMATELY, NOT EXACT\n",
    "hw1sdDebug = {'mean': 63.5966,\n",
    " 'median': 62.515,\n",
    " 'standard deviation': 18.826,\n",
    " 'min': 9.7,\n",
    " 'max': 100.0}\n",
    "\n",
    "# APPROXIMATELY, NOT EXACT\n",
    "fin1sdDebug = {'mean': 49.241,\n",
    " 'median': 49.04,\n",
    " 'standard deviation': 19.544,\n",
    " 'min': 0.0,\n",
    " 'max': 100.0}"
   ]
  },
  {
   "cell_type": "code",
   "execution_count": 20,
   "metadata": {},
   "outputs": [],
   "source": [
    "def calc_weighted_grade(dataTuple, weights = {'hw':0.20,'mt':0.40,'fin':0.30, 'lab':0.1}):    \n",
    "    \"\"\"\n",
    "    This function calculates the cumulative grades with the given rules:\n",
    "    - The lowest hw and mt grades are dropped\n",
    "    - Then the cumulative grades are calculated as:\n",
    "    -- Take the average of remaining homeworks and midterms\n",
    "    -- Multiply the homework averages, midterm averages, final grade and lab with the given weights\n",
    "    -- Add them up to get the weighted grade of a student\n",
    "    \n",
    "    Inputs:\n",
    "    - dataTuple: The tuple containing the grades array and item names, coming from read_data\n",
    "    - weights: The weight of each grade portion\n",
    "    \n",
    "    Outputs:\n",
    "    - weightedGrades: A 1D numpy array containing the weighted grades. It should have n (number of students) elements\n",
    "    \n",
    "    Hint: A version of this is already asked in Midterm 2. Feel free to use the given solution as a basis.\n",
    "    \"\"\"\n",
    "    \n",
    "    # YOUR CODE HERE\n",
    "    grade,labels = dataTuple\n",
    "    hw_idx = [i for i,label in enumerate(labels) if 'hw' in label] #iterate over specific label with i which is grades and holds hw labels\n",
    "    mt_idx = [i for i,label in enumerate(labels) if 'mid' in label]\n",
    "    final_idx = labels.index('final')\n",
    "    lab_idx = labels.index('lab')\n",
    "\n",
    "    hw_min_idx = np.argmin(grade[:,hw_idx],axis=1)   #grade of homework for each student\n",
    "    hw_average = np.array([np.mean(grade[i,hw_idx]) if len(hw_idx)==1 else np.mean(np.delete(grade[i,hw_idx],hw_min_idx[i])) for i in range(grade.shape[0])])\n",
    "    mt_min_idx = np.argmin(grade[:,mt_idx],axis=1)\n",
    "    mt_average = np.array([np.mean(grade[i,mt_idx]) if len(mt_idx)==1 else np.mean(np.delete(grade[i,mt_idx], mt_min_idx[i])) for i in range(grade.shape[0])])\n",
    "\n",
    "    final_grades = grade[:,final_idx]\n",
    "    lab_grades = grade[:,lab_idx]\n",
    "\n",
    "    weightedGrades = (weights['hw'] * hw_average + weights['mt'] * mt_average + weights['fin'] * final_grades + weights['lab'] * lab_grades)\n",
    "    \n",
    "    # Do not modify below this line\n",
    "    return weightedGrades\n"
   ]
  },
  {
   "cell_type": "code",
   "execution_count": 21,
   "metadata": {},
   "outputs": [],
   "source": [
    "weightedGrades = calc_weighted_grade(gradesAndInfo)\n",
    "\n",
    "weightedGradesDebugFirstTen  = np.array([68.556, 74.703, 56.648, 59.011, 62.787, \n",
    "                                         67.266, 72.01 , 68.556, 64.012, 78.13])"
   ]
  },
  {
   "cell_type": "code",
   "execution_count": 23,
   "metadata": {},
   "outputs": [
    {
     "data": {
      "text/plain": [
       "10.182238774508285"
      ]
     },
     "execution_count": 23,
     "metadata": {},
     "output_type": "execute_result"
    }
   ],
   "source": [
    "wgMu    = weightedGrades.mean() #approx 64.05\n",
    "wgSigma = weightedGrades.std() # approx 10.18"
   ]
  },
  {
   "cell_type": "code",
   "execution_count": 33,
   "metadata": {},
   "outputs": [],
   "source": [
    "def calc_letter_grades(weightedGrades):\n",
    "    \"\"\"\n",
    "    This function calculates the letter grades of the students.\n",
    "    Let mu be the average weighted grade and std be the standard deviation. Then the grades are (lower limits are inclusive):\n",
    "    - A: Above mu+1.5*std\n",
    "    - B: Between mu+0.5*std and mu+1.5*std\n",
    "    - C: Between mu-0.5*std and mu+0.5*std\n",
    "    - D: Between mu-1.5*std and mu-0.5*std\n",
    "    - F: Lower than mu-1.5*std\n",
    "    \n",
    "    Example: The mean of the grades are 50, and the standard deviation is 16, then:\n",
    "    - A: [74-100] \n",
    "    - B: [58,74) (74 is A, not B)\n",
    "    - C: [42,58) (58 is B, not C)\n",
    "    - D: [26,42) (42 is B, not C)\n",
    "    - F: [0,26)  (26 is D, not C)\n",
    "    \n",
    "    Inputs:\n",
    "    - weightedGrades: A 1D array of the weighted grades as calculated by calc_weighted_grade\n",
    "    \n",
    "    Outputs:\n",
    "    - letterGrades: A 1D array of letter grades as strings (dtype=object)\n",
    "    \n",
    "    Note: This is not how we grade you in this course since our distributions are not symmetric and are not unimodal\n",
    "    \"\"\"\n",
    "    # YOUR CODE HERE\n",
    "    letterGrades = np.empty(weightedGrades.shape[0], dtype=object)\n",
    "    weightedGrades = np.array(weightedGrades)\n",
    "    for i in range(len(weightedGrades)):\n",
    "        if weightedGrades[i] > wgMu + 1.5*wgSigma:\n",
    "            letterGrades[i] = 'A'\n",
    "        elif weightedGrades[i] > wgMu + 0.5*wgSigma and weightedGrades[i] <= wgMu + 1.5*wgSigma:\n",
    "            letterGrades[i] = 'B'\n",
    "        elif weightedGrades[i] > wgMu - 0.5*wgSigma and weightedGrades[i] <= wgMu + 0.5*wgSigma:\n",
    "            letterGrades[i] = 'C'       \n",
    "        elif weightedGrades[i] > wgMu - 1.5*wgSigma and weightedGrades[i] <= wgMu - 0.5*wgSigma:\n",
    "            letterGrades[i] = 'D'\n",
    "        else:\n",
    "            letterGrades[i] = 'F'\n",
    "    # Do not modify below this line\n",
    "    return letterGrades"
   ]
  },
  {
   "cell_type": "code",
   "execution_count": 34,
   "metadata": {},
   "outputs": [],
   "source": [
    "letterGrades = calc_letter_grades(weightedGrades)\n",
    "\n",
    "letterGradesFirstTen = np.array(['C', 'B', 'D', 'C', 'C', \n",
    "                                 'C', 'B', 'C', 'C', 'B'])"
   ]
  },
  {
   "cell_type": "code",
   "execution_count": 35,
   "metadata": {},
   "outputs": [],
   "source": [
    "def count_letter_grades(letterGrades):\n",
    "    \"\"\"\n",
    "    This function returns the counts of each letter grade as a dictionary\n",
    "    \n",
    "    Inputs:\n",
    "    - letterGrades: A 1D array of letter grades as calculated by calc_letter_grades\n",
    "    \n",
    "    Outputs:\n",
    "    - letterGradeCounts: A dictionary of counts\n",
    "    -- Keys 'A','B','C','D', and 'F' \n",
    "    -- Values as their counts in the letterGrades\n",
    "    \"\"\"\n",
    "    \n",
    "    # YOU CODE HERE\n",
    "    gradeCounts = {'A':0, 'B':0 , 'C':0 , 'D':0 , 'F':0}\n",
    "    for grade in letterGrades:\n",
    "        if grade in gradeCounts:\n",
    "            gradeCounts[grade]+=1\n",
    "    # Do not modify below this line\n",
    "    return gradeCounts"
   ]
  },
  {
   "cell_type": "code",
   "execution_count": 36,
   "metadata": {},
   "outputs": [],
   "source": [
    "gradeCounts = count_letter_grades(letterGrades)\n",
    "\n",
    "gradeCountsDebug = {'C': 40, 'B': 21, 'D': 26, 'A': 8, 'F': 5}"
   ]
  },
  {
   "cell_type": "code",
   "execution_count": 38,
   "metadata": {},
   "outputs": [
    {
     "data": {
      "text/plain": [
       "{'A': 8, 'B': 21, 'C': 40, 'D': 26, 'F': 5}"
      ]
     },
     "execution_count": 38,
     "metadata": {},
     "output_type": "execute_result"
    }
   ],
   "source": [
    "gradeCounts"
   ]
  }
 ],
 "metadata": {
  "kernelspec": {
   "display_name": "Python 3",
   "language": "python",
   "name": "python3"
  },
  "language_info": {
   "codemirror_mode": {
    "name": "ipython",
    "version": 3
   },
   "file_extension": ".py",
   "mimetype": "text/x-python",
   "name": "python",
   "nbconvert_exporter": "python",
   "pygments_lexer": "ipython3",
   "version": "3.8.5"
  }
 },
 "nbformat": 4,
 "nbformat_minor": 4
}
